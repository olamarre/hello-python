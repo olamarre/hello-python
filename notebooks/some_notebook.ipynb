{
 "cells": [
  {
   "cell_type": "markdown",
   "id": "1f85a9f4-5407-43bc-88f4-82fb52f4310c",
   "metadata": {},
   "source": [
    "# Some notebook!\n",
    "Take the time to briefly mention what this notebook does. Your future self will thank you for it.  \n",
    "Use notebooks for quick tasks like code prototyping or data inspection/plotting. They are also great to demonstrate, step-by-step, how your custom python package works."
   ]
  },
  {
   "cell_type": "code",
   "execution_count": 6,
   "id": "be4b24d3-89e0-480c-b7c5-b33e6aaeaa11",
   "metadata": {},
   "outputs": [],
   "source": [
    "# Make sure to select the kernel corresponding to your (conda) environment at the top right\n",
    "\n",
    "import numpy\n",
    "import scipy\n",
    "import matplotlib\n",
    "\n",
    "from hello_python import calculator\n",
    "# from hello_python.config import REPO_CFG\n"
   ]
  },
  {
   "cell_type": "code",
   "execution_count": null,
   "id": "5c128bf1-db13-4896-9ee3-066f01aff6ed",
   "metadata": {},
   "outputs": [],
   "source": [
    "# Importlib lets you reload a modified python module without having to restart the entire notebook\n",
    "# For example, let's say we added a new function to our calculator & wish to reload/refresh the calculator module\n",
    "from importlib import reload\n",
    "reload(calculator)\n",
    "\n",
    "# now you can call calculator.new_function()\n",
    "\n",
    "\n"
   ]
  }
 ],
 "metadata": {
  "kernelspec": {
   "display_name": "hello-env",
   "language": "python",
   "name": "hello-env"
  },
  "language_info": {
   "codemirror_mode": {
    "name": "ipython",
    "version": 3
   },
   "file_extension": ".py",
   "mimetype": "text/x-python",
   "name": "python",
   "nbconvert_exporter": "python",
   "pygments_lexer": "ipython3",
   "version": "3.9.16"
  }
 },
 "nbformat": 4,
 "nbformat_minor": 5
}
