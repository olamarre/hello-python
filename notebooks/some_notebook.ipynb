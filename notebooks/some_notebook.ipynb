{
 "cells": [
  {
   "cell_type": "markdown",
   "id": "1f85a9f4-5407-43bc-88f4-82fb52f4310c",
   "metadata": {},
   "source": [
    "# Some notebook!\n",
    "Take the time to briefly mention what this notebook does. Your future self will thank you for it.  \n",
    "Use notebooks for quick tasks like code prototyping or data inspection/plotting. They are also great to demonstrate, step-by-step, how your custom python package works."
   ]
  },
  {
   "cell_type": "code",
   "execution_count": 1,
   "id": "be4b24d3-89e0-480c-b7c5-b33e6aaeaa11",
   "metadata": {},
   "outputs": [
    {
     "name": "stdout",
     "output_type": "stream",
     "text": [
      "Repository root directory: /home/olamarre/projects/hello-python\n",
      "Repository data directory: /home/olamarre/projects/hello-python/data\n",
      "Repository config directory: /home/olamarre/projects/hello-python/config\n"
     ]
    },
    {
     "data": {
      "text/plain": [
       "<module 'hello.calculator' from '/home/olamarre/projects/hello-python/hello/calculator.py'>"
      ]
     },
     "execution_count": 1,
     "metadata": {},
     "output_type": "execute_result"
    }
   ],
   "source": [
    "# Make sure to select the kernel corresponding to your environment at the top right\n",
    "\n",
    "import numpy\n",
    "import matplotlib\n",
    "\n",
    "from hello import calculator\n",
    "from hello.dev import REPO_CFG\n",
    "\n",
    "# The following configures the notebook to reload any (loaded) module that gets modified\n",
    "# For example, let's say we added a new function to our calculator & wish to reload/refresh the calculator module\n",
    "%load_ext autoreload\n",
    "%autoreload 2\n",
    "\n",
    "# Alternatively, you can use importlib to manually reload a module. This method\n",
    "# will also reset the module's global variables (if any), which the above method does not do\n",
    "from importlib import reload\n",
    "reload(calculator)"
   ]
  },
  {
   "cell_type": "code",
   "execution_count": 2,
   "id": "8e4b0048-0285-469b-86ee-8ba360a8cc0c",
   "metadata": {},
   "outputs": [
    {
     "name": "stdout",
     "output_type": "stream",
     "text": [
      "2023-02-13 13:29:49,218 - __main__ - INFO - Logging to /home/olamarre/projects/hello-python/data/logs/some_notebook.log\n"
     ]
    }
   ],
   "source": [
    "# In most cases, notebooks are used for relatively quick tasks and it makes more sense to use print()\n",
    "# statements for debugging. However, if you wish to use the `logging` module, you can configure it the following way.\n",
    "\n",
    "import logging\n",
    "import logging.config\n",
    "import json\n",
    "import ipynbname  # Provides the name of the current notebook\n",
    "from pathlib import Path\n",
    "\n",
    "# Load the repository's logging configuration\n",
    "with open(Path(REPO_CFG.config_dir, 'logging.json')) as f:\n",
    "    log_cfg = json.load(f)\n",
    "\n",
    "log_dir = Path(REPO_CFG.data_dir, 'logs')\n",
    "log_dir.mkdir(exist_ok=True)\n",
    "lfn = Path(log_dir, ipynbname.name()+'.log')\n",
    "\n",
    "log_cfg['handlers']['file']['filename'] = lfn\n",
    "logging.config.dictConfig(log_cfg)\n",
    "log = logging.getLogger(__name__)\n",
    "\n",
    "log.info(f\"Logging to {lfn}\")"
   ]
  },
  {
   "cell_type": "code",
   "execution_count": null,
   "id": "6dfd7e17-07d1-4183-95f5-af0c19147a42",
   "metadata": {},
   "outputs": [],
   "source": []
  }
 ],
 "metadata": {
  "kernelspec": {
   "display_name": "hello-env",
   "language": "python",
   "name": "hello-env"
  },
  "language_info": {
   "codemirror_mode": {
    "name": "ipython",
    "version": 3
   },
   "file_extension": ".py",
   "mimetype": "text/x-python",
   "name": "python",
   "nbconvert_exporter": "python",
   "pygments_lexer": "ipython3",
   "version": "3.9.16"
  }
 },
 "nbformat": 4,
 "nbformat_minor": 5
}
