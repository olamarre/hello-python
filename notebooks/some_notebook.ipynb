{
 "cells": [
  {
   "cell_type": "markdown",
   "id": "1f85a9f4-5407-43bc-88f4-82fb52f4310c",
   "metadata": {},
   "source": [
    "# Some notebook!\n",
    "Take the time to briefly mention what this notebook does. Your future self will thank you for it.  \n",
    "Use notebooks for quick tasks like code prototyping or data inspection/plotting. They are also great to demonstrate, step-by-step, how your custom python package works."
   ]
  },
  {
   "cell_type": "code",
   "execution_count": 3,
   "id": "be4b24d3-89e0-480c-b7c5-b33e6aaeaa11",
   "metadata": {},
   "outputs": [],
   "source": [
    "# Make sure to select the kernel corresponding to your (conda) environment at the top right\n",
    "\n",
    "import numpy\n",
    "import scipy\n",
    "import matplotlib\n",
    "\n",
    "from hello_python import calculator\n",
    "from hello_python.config import REPO_CFG\n"
   ]
  },
  {
   "cell_type": "code",
   "execution_count": null,
   "id": "5c128bf1-db13-4896-9ee3-066f01aff6ed",
   "metadata": {},
   "outputs": [],
   "source": [
    "# Importlib lets you reload a modified python module without having to restart the entire notebook\n",
    "# For example, let's say we added a new function to our calculator & wish to reload/refresh the calculator module\n",
    "from importlib import reload\n",
    "reload(calculator)\n",
    "\n",
    "# now you can call calculator.new_function()\n",
    "\n",
    "\n"
   ]
  },
  {
   "cell_type": "code",
   "execution_count": null,
   "id": "8e4b0048-0285-469b-86ee-8ba360a8cc0c",
   "metadata": {},
   "outputs": [],
   "source": [
    "import logging\n",
    "import logging.config\n",
    "import json\n",
    "import ipynbname\n",
    "\n",
    "\n",
    "from datetime import datetime as dt\n",
    "\n",
    "from spatiotemp.tempest.mission_planner import MissionPlanner\n",
    "from spatiotemp.config import REPO_CFG as SPAT_CFG\n",
    "\n",
    "# Logging setup\n",
    "with open(os.path.join(SPAT_CFG.config_dir, 'logging.json')) as f:\n",
    "    log_cfg = json.load(f)\n",
    "lfn = os.path.join(SPAT_CFG.logs_dir, ipynbname.name()+'.log')\n",
    "log_cfg['handlers']['file']['filename'] = lfn\n",
    "logging.config.dictConfig(log_cfg)\n",
    "log = logging.getLogger(__name__)\n",
    "print(f\"Logging to {lfn}\")"
   ]
  }
 ],
 "metadata": {
  "kernelspec": {
   "display_name": "hello-env",
   "language": "python",
   "name": "hello-env"
  },
  "language_info": {
   "codemirror_mode": {
    "name": "ipython",
    "version": 3
   },
   "file_extension": ".py",
   "mimetype": "text/x-python",
   "name": "python",
   "nbconvert_exporter": "python",
   "pygments_lexer": "ipython3",
   "version": "3.9.16"
  }
 },
 "nbformat": 4,
 "nbformat_minor": 5
}
